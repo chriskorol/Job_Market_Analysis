{
 "cells": [
  {
   "cell_type": "code",
   "execution_count": 2,
   "metadata": {},
   "outputs": [
    {
     "data": {
      "text/plain": [
       "(785741, 22003)"
      ]
     },
     "execution_count": 2,
     "metadata": {},
     "output_type": "execute_result"
    }
   ],
   "source": [
    "import pandas as pd\n",
    "from datasets import load_dataset\n",
    "\n",
    "dataset = load_dataset('lukebarousse/data_jobs')\n",
    "df = dataset['train'].to_pandas()\n",
    "rows_before = len(df)\n",
    "\n",
    "# Remove Rows with Missing Values\n",
    "df_cleaned = df.dropna(subset=['salary_year_avg'])\n",
    "rows_after = len(df_cleaned)\n",
    "\n",
    "rows_before, rows_after"
   ]
  },
  {
   "cell_type": "code",
   "execution_count": 4,
   "metadata": {},
   "outputs": [
    {
     "data": {
      "text/plain": [
       "(785741, 17218)"
      ]
     },
     "execution_count": 4,
     "metadata": {},
     "output_type": "execute_result"
    }
   ],
   "source": [
    "# Remove Duplicate Rows\n",
    "rows_before = df.shape[0]\n",
    "df_unique = df.drop_duplicates(subset=['job_location'])\n",
    "rows_after = df_unique.shape[0]\n",
    "rows_before, rows_after"
   ]
  },
  {
   "cell_type": "code",
   "execution_count": 5,
   "metadata": {},
   "outputs": [
    {
     "data": {
      "text/plain": [
       "(0    None\n",
       " 1    None\n",
       " 2    None\n",
       " 3    None\n",
       " 4    None\n",
       " 5    None\n",
       " 6    None\n",
       " 7    None\n",
       " 8    None\n",
       " 9    None\n",
       " Name: salary_rate, dtype: object,\n",
       " 0    Unknown\n",
       " 1    Unknown\n",
       " 2    Unknown\n",
       " 3    Unknown\n",
       " 4    Unknown\n",
       " 5    Unknown\n",
       " 6    Unknown\n",
       " 7    Unknown\n",
       " 8    Unknown\n",
       " 9    Unknown\n",
       " Name: salary_rate, dtype: object)"
      ]
     },
     "execution_count": 5,
     "metadata": {},
     "output_type": "execute_result"
    }
   ],
   "source": [
    "# Fill Missing Values in Column \n",
    "salary_rate_before = df['salary_rate'].head(10)\n",
    "df_filled = df.fillna({'salary_rate': 'Unknown'})\n",
    "salary_rate_after = df_filled['salary_rate'].head(10)\n",
    "salary_rate_before, salary_rate_after"
   ]
  }
 ],
 "metadata": {
  "kernelspec": {
   "display_name": "python_course",
   "language": "python",
   "name": "python3"
  },
  "language_info": {
   "codemirror_mode": {
    "name": "ipython",
    "version": 3
   },
   "file_extension": ".py",
   "mimetype": "text/x-python",
   "name": "python",
   "nbconvert_exporter": "python",
   "pygments_lexer": "ipython3",
   "version": "3.11.9"
  }
 },
 "nbformat": 4,
 "nbformat_minor": 2
}
